{
  "cells": [
    {
      "attachments": {},
      "cell_type": "markdown",
      "metadata": {
        "id": "aEQ5zz64wRuM"
      },
      "source": [
        "### Loading Data"
      ]
    },
    {
      "cell_type": "code",
      "execution_count": 1,
      "metadata": {
        "id": "79gT4HqIwh96"
      },
      "outputs": [
        {
          "data": {
            "image/png": "[encoded data removed]",
            "text/plain": [
              "<Figure size 432x288 with 1 Axes>"
            ]
          },
          "metadata": {
            "needs_background": "light"
          },
          "output_type": "display_data"
        }
      ],
      "source": [
        "import numpy as np\n",
        "import matplotlib.pyplot as plt\n",
        "\n",
        "# A function to plot images\n",
        "def show_image(img):\n",
        "    image = img.reshape((28, 28))\n",
        "    plt.imshow(image, 'gray')\n",
        "\n",
        "\n",
        "# Reading The Train Set\n",
        "train_images_file = open('./t10k-images.idx3-ubyte', 'rb')\n",
        "train_images_file.seek(4)\n",
        "num_of_train_images = int.from_bytes(train_images_file.read(4), 'big')\n",
        "train_images_file.seek(16)\n",
        "\n",
        "train_labels_file = open('./train-labels.idx1-ubyte', 'rb')\n",
        "train_labels_file.seek(8)\n",
        "\n",
        "train_set = []\n",
        "for n in range(num_of_train_images):\n",
        "    image = np.zeros((784, 1))\n",
        "    for i in range(784):\n",
        "        image[i, 0] = int.from_bytes(train_images_file.read(1), 'big') / 256\n",
        "    \n",
        "    label_value = int.from_bytes(train_labels_file.read(1), 'big')\n",
        "    label = np.zeros((10, 1))\n",
        "    label[label_value, 0] = 1\n",
        "    \n",
        "    train_set.append((image, label))\n",
        "\n",
        "\n",
        "# Reading The Test Set\n",
        "test_images_file = open('./t10k-images.idx3-ubyte', 'rb')\n",
        "test_images_file.seek(4)\n",
        "\n",
        "test_labels_file = open('./t10k-labels.idx1-ubyte', 'rb')\n",
        "test_labels_file.seek(8)\n",
        "\n",
        "num_of_test_images = int.from_bytes(test_images_file.read(4), 'big')\n",
        "test_images_file.seek(16)\n",
        "\n",
        "test_set = []\n",
        "for n in range(num_of_test_images):\n",
        "    image = np.zeros((784, 1))\n",
        "    for i in range(784):\n",
        "        image[i] = int.from_bytes(test_images_file.read(1), 'big') / 256\n",
        "    \n",
        "    label_value = int.from_bytes(test_labels_file.read(1), 'big')\n",
        "    label = np.zeros((10, 1))\n",
        "    label[label_value, 0] = 1\n",
        "    \n",
        "    test_set.append((image, label))\n",
        "\n",
        "\n",
        "# Plotting an image\n",
        "show_image(train_set[0][0])\n",
        "plt.show()"
      ]
    },
    {
      "attachments": {},
      "cell_type": "markdown",
      "metadata": {},
      "source": [
        "### Feed Forward Output Calculation"
      ]
    },
    {
      "cell_type": "code",
      "execution_count": 2,
      "metadata": {},
      "outputs": [],
      "source": [
        "import numpy as np\n",
        "from sklearn import datasets\n",
        "import tensorflow as tf"
      ]
    },
    {
      "cell_type": "code",
      "execution_count": 3,
      "metadata": {},
      "outputs": [],
      "source": [
        "import pandas as pd\n",
        "test_set_df = pd.DataFrame(test_set)\n",
        "train_set_df = pd.DataFrame(train_set)\n",
        "\n",
        "train_data = train_set_df[0].to_numpy()\n",
        "test_data = test_set_df[0].to_numpy()\n",
        "\n",
        "train_label = train_set_df[1].to_numpy()\n",
        "test_label = test_set_df[1].to_numpy()"
      ]
    },
    {
      "cell_type": "code",
      "execution_count": 4,
      "metadata": {},
      "outputs": [],
      "source": [
        "test_data = (test_data/255)\n",
        "train_data = (train_data/255)"
      ]
    },
    {
      "cell_type": "code",
      "execution_count": 5,
      "metadata": {},
      "outputs": [],
      "source": [
        "def shuffledData(a, b):\n",
        "    if len(a) == len(b):\n",
        "      p = np.random.permutation(len(a))\n",
        "    return (a[p], b[p])\n",
        "\n",
        "\n",
        "test_data , test_label = shuffledData(test_data, test_label)\n",
        "train_data , train_label = shuffledData(train_data, train_label)"
      ]
    },
    {
      "cell_type": "code",
      "execution_count": 5,
      "metadata": {},
      "outputs": [],
      "source": [
        "def initialize():\n",
        "    w0 = np.random.normal(size=(16, 784))\n",
        "    w1 = np.random.normal(size=(16, 16))\n",
        "    w2 = np.random.normal(size=(10, 16))\n",
        "    b0 = np.zeros((16, 1))\n",
        "    b1 = np.zeros((16, 1))\n",
        "    b2 = np.zeros((10, 1))\n",
        "    w = [w0, w1, w2]\n",
        "    b = [b0, b1, b2]\n",
        "\n",
        "    return w, b"
      ]
    },
    {
      "cell_type": "code",
      "execution_count": 6,
      "metadata": {},
      "outputs": [],
      "source": [
        "def sigmoid(x):    \n",
        "    return 1 /(1 + (np.exp(-1 * x)))\n",
        "\n",
        "def d_sigmoid(x):    \n",
        "    return sigmoid(x)/(1.0 - sigmoid(x))   "
      ]
    },
    {
      "cell_type": "code",
      "execution_count": 9,
      "metadata": {},
      "outputs": [
        {
          "name": "stdout",
          "output_type": "stream",
          "text": [
            "Avarage accuracy of feedforward would be: 13.0%\n"
          ]
        }
      ],
      "source": [
        "w, b = initialize()\n",
        "\n",
        "def get_max(m):\n",
        "    maximum = -99999\n",
        "    index = 0\n",
        "    for i in range(len(m)):\n",
        "        if m[i] > maximum:\n",
        "            maximum = m[i]\n",
        "            index = i\n",
        "    return index\n",
        "\n",
        "\n",
        "def feedforward(weight0, weight1, weight2, bias0, bias1, bias2):\n",
        "    counter = 0\n",
        "    for i in range (100):\n",
        "        #activation function is sigmoid\n",
        "        new_data = train_data[i].reshape(-1, 1)\n",
        "        sigmoid_y = sigmoid(weight0 @ new_data + bias0)\n",
        "        sigmoid_z = sigmoid(weight1 @ sigmoid_y + bias1)\n",
        "        sigmoid_c = sigmoid(weight2 @ sigmoid_z + bias2)\n",
        "\n",
        "        if get_max(sigmoid_c) == get_max(train_label[i]):\n",
        "            counter = counter + 1\n",
        "    return (float)((counter/100) * 100)\n",
        "\n",
        "output_accuracy = 0\n",
        "\n",
        "for j in range(20):\n",
        "    output_accuracy += feedforward(w[0], w[1], w[2], b[0], b[1], b[2])\n",
        "\n",
        "print(\"Avarage accuracy of feedforward would be: \" + str((float)(output_accuracy / 20)) + \"%\")\n"
      ]
    },
    {
      "attachments": {},
      "cell_type": "markdown",
      "metadata": {},
      "source": [
        "### Backpropagation Implimentaion"
      ]
    },
    {
      "cell_type": "code",
      "execution_count": 10,
      "metadata": {},
      "outputs": [],
      "source": [
        "def initialize():\n",
        "    w1 = np.random.normal(size=(16, 784))\n",
        "    w2 = np.random.normal(size=(16, 16))\n",
        "    w3 = np.random.normal(size=(10, 16))\n",
        "    b1 = np.zeros((16, 1))\n",
        "    b2 = np.zeros((16, 1))\n",
        "    b3 = np.zeros((10, 1))\n",
        "    w = [w1, w2, w3]\n",
        "    b = [b1, b2, b3]\n",
        "\n",
        "    return w, b"
      ]
    },
    {
      "cell_type": "code",
      "execution_count": 13,
      "metadata": {},
      "outputs": [],
      "source": [
        "import math\n",
        "\n",
        "def sigmoid(x):    \n",
        "    return 1 /(1 + (np.exp(-1 * x)))\n",
        "\n",
        "def d_sigmoid(x):    \n",
        "    return sigmoid(x) * (1.0 - sigmoid(x))  \n",
        "\n",
        "def mean_squared_error(y_pred, y_true):\n",
        "    return ((y_pred - y_true)**2).sum() / (2*y_pred.size)\n",
        "\n",
        "# def accuracy(y_pred, y_true):\n",
        "#     acc = y_pred.argmax(axis=1) == y_true.argmax(axis=1)\n",
        "#     return acc.mean()\n",
        "    \n",
        "def shuffledData(a, b):\n",
        "    if len(a) == len(b):\n",
        "      p = np.random.permutation(len(a))\n",
        "    return (a[p], b[p])\n",
        "\n",
        "def accuracy(m):\n",
        "    return np.where(m == max(m))"
      ]
    },
    {
      "cell_type": "code",
      "execution_count": 12,
      "metadata": {},
      "outputs": [],
      "source": [
        "# Hyperparameters\n",
        "epochs = 20\n",
        "learning_rate = 1\n",
        "batch_size = 10\n",
        "N = 100"
      ]
    },
    {
      "cell_type": "code",
      "execution_count": 13,
      "metadata": {},
      "outputs": [
        {
          "name": "stdout",
          "output_type": "stream",
          "text": [
            "Accuracy: 36.0 %\n",
            "Runtime: 95.2172601222992 seconds\n"
          ]
        },
        {
          "data": {
            "image/png": "[encoded data removed]",
            "text/plain": [
              "<Figure size 432x288 with 1 Axes>"
            ]
          },
          "metadata": {
            "needs_background": "light"
          },
          "output_type": "display_data"
        }
      ],
      "source": [
        "import pandas as pd\n",
        "import time\n",
        "\n",
        "w, b = initialize()\n",
        "costs = list()\n",
        "\n",
        "def backpropagation(w1, w2, w3, b1, b2, b3, epochs, batch_size, learning_rate, N):\n",
        "    start = time.time()\n",
        "    results = pd.DataFrame(columns=[\"mse\", \"accuracy\"])\n",
        "    batches = [train_set[i : i + batch_size] for i in range(0, N, batch_size)]\n",
        "    \n",
        "    for epoch in range(epochs):\n",
        "        'TODO: shuffling'\n",
        "        # shuffle = np.random.permutation(len(train_set))\n",
        "        # print(shuffle)\n",
        "        # train_set1 = np.asarray(train_set)\n",
        "        # new_train_set = np.zeros((10000, ))\n",
        "        # np.take(train_set1, np.random.permutation(train_set1.shape[0]), axis = 0, out = new_train_set)\n",
        "        # print(type(train_set))\n",
        "        # new_train_set = (list)(np.random.shuffle(train_set))\n",
        "        \n",
        "        for id, batch in enumerate(batches):\n",
        "            # print(id)\n",
        "            # print(np.shape(batch))\n",
        "            grad_w1 = np.zeros((16 * 784))\n",
        "            grad_w2 = np.zeros((16 * 16))\n",
        "            grad_w3 = np.zeros((10, 16))\n",
        "            grad_b1 = np.zeros((16, 1))\n",
        "            grad_b2 = np.zeros((16, 1))\n",
        "            grad_b3 = np.zeros((10, 1))\n",
        "\n",
        "            for image, label in batch:\n",
        "                ''' Feedforward '''\n",
        "                net_h1 = w1 @ image + b1\n",
        "                out_h1 = sigmoid(net_h1)\n",
        "                net_h2 = w2 @ out_h1 + b2\n",
        "                out_h2 = sigmoid(net_h2)\n",
        "                net_h3 = w3 @ out_h2 + b3\n",
        "                out_h3 = sigmoid(net_h3)\n",
        "\n",
        "                ''' Backpropagation '''\n",
        "                ''' output layer : d_E_total / d_w3 = (d_E_total / d_out_h3) * (d_out_h3 / d_net_h3) * (d_net_h3 / d_w3) '''\n",
        "                for i in range(10):\n",
        "                    for j in range(16):\n",
        "                        grad_w3[i, j] += out_h2[j, 0] * d_sigmoid(net_h3[i, 0]) * 2 * (out_h3[i, 0] - label[i, 0])\n",
        "                        \n",
        "                for i in range(10): \n",
        "                    grad_b3[i, 0] += d_sigmoid(net_h3[i, 0]) * 2 * (out_h3[i, 0] - label[i, 0])\n",
        "\n",
        "                ''' third layer : d_E_total / d_w2 = (d_E_total / d_out_h3) * (d_out_h3/ d_out_h2) * (d_out_h2 / d_net_h2) * (d_net_h2 / d_w2)'''\n",
        "                grad_out_h3 = np.zeros((16, 1))\n",
        "                for i in range(16):\n",
        "                    for j in range(10):\n",
        "                        grad_out_h3[i, 0] += w3[j, i] * d_sigmoid(net_h3[j, 0]) * 2 * (out_h3[j, 0] - label[j, 0]) \n",
        "                                \n",
        "                grad_w2 = grad_w2.reshape(16, 16)\n",
        "                for x in range(16):\n",
        "                    for y in range(16): \n",
        "                        grad_w2[x, y] += grad_out_h3[x, 0] * out_h1[y, 0] * d_sigmoid(net_h2[x, 0]) \n",
        "                        \n",
        "                for x in range(16):\n",
        "                    grad_b2[x, 0] += d_sigmoid(net_h2[x, 0]) * grad_out_h3[x, 0] \n",
        "                        \n",
        "                ''' second layer'''\n",
        "                grad_out_h2 = np.zeros((16, 1))\n",
        "                for m in range(16):\n",
        "                    for k in range(16):\n",
        "                        grad_out_h2[m, 0] += w2[k, m] * grad_out_h3[k, 0] * d_sigmoid(net_h2[k, 0])\n",
        "\n",
        "                grad_w1 = grad_w1.reshape(16, 784)\n",
        "                for x in range(16):\n",
        "                    for y in range(748):\n",
        "                        grad_w1[x, y] += grad_out_h2[x, 0] * d_sigmoid(net_h2[x, 0]) * image[y, 0]\n",
        "                \n",
        "                for x in range(16):\n",
        "                    grad_b1[x, 0] += d_sigmoid(net_h2[x, 0]) * grad_out_h2[x, 0]\n",
        "                \n",
        "            ''' update the weights '''\n",
        "            w3 -= (learning_rate * (grad_w3 / batch_size))\n",
        "            w2 -= (learning_rate * (grad_w2 / batch_size))\n",
        "            w1 -= (learning_rate * (grad_w1 / batch_size))\n",
        "            \n",
        "            ''' update the biases '''\n",
        "            b3 -= (learning_rate * (grad_b3 / batch_size))\n",
        "            b2 -= (learning_rate * (grad_b2 / batch_size))\n",
        "            b1 -= (learning_rate * (grad_b1 / batch_size))\n",
        "        \n",
        "        ''' Calculating cost '''\n",
        "        cost = 0\n",
        "        correct_guess = 0\n",
        "        for train_data in train_set[:100]:\n",
        "            x0 = train_data[0]\n",
        "            outh1 = sigmoid(w1 @ x0 + b1)\n",
        "            outh2 = sigmoid(w2 @ outh1 + b2)\n",
        "            outh3 = sigmoid(w3 @ outh2 + b3)\n",
        "    \n",
        "            if accuracy(outh3) == accuracy(train_data[1]):\n",
        "                correct_guess =  correct_guess + 1\n",
        "\n",
        "            # Compute cost\n",
        "            for j in range(0, 10):\n",
        "                cost = cost + ((outh3[j, 0] - train_data[1][j, 0]) ** 2)/2\n",
        "        costs.append(cost / 100) \n",
        "\n",
        "    stop = time.time()\n",
        "    epoch_size = [i for i in range(0, epochs)]\n",
        "    # plt.plot(epoch_size, , \"r\")\n",
        "    plt.plot(epoch_size, costs, \"g\")\n",
        "    plt.title(\"train\", loc = 'left')\n",
        "    plt.xlabel(\"Epoch\")\n",
        "    plt.ylabel(\"Cost\")\n",
        "    print(f\"Accuracy: {str( (float) (correct_guess / N) * 100)} %\")\n",
        "    print(f\"Runtime: {stop - start} seconds\")\n",
        "\n",
        "backpropagation(w[0], w[1], w[2], b[0], b[1], b[2], epochs, batch_size, learning_rate, N)"
      ]
    },
    {
      "attachments": {},
      "cell_type": "markdown",
      "metadata": {
        "id": "VGVAHQqE16mN"
      },
      "source": [
        "### Vectorization"
      ]
    },
    {
      "cell_type": "code",
      "execution_count": 11,
      "metadata": {},
      "outputs": [],
      "source": [
        "# Hyperparameters\n",
        "epochs = 200\n",
        "learning_rate = 1\n",
        "batch_size = 10\n",
        "N = 100"
      ]
    },
    {
      "cell_type": "code",
      "execution_count": 10,
      "metadata": {},
      "outputs": [],
      "source": [
        "def initialize():\n",
        "    w1 = np.random.normal(size=(16, 784))\n",
        "    w2 = np.random.normal(size=(16, 16))\n",
        "    w3 = np.random.normal(size=(10, 16))\n",
        "    b1 = np.zeros((16, 1))\n",
        "    b2 = np.zeros((16, 1))\n",
        "    b3 = np.zeros((10, 1))\n",
        "    w = [w1, w2, w3]\n",
        "    b = [b1, b2, b3]\n",
        "\n",
        "    return w, b"
      ]
    },
    {
      "cell_type": "code",
      "execution_count": 171,
      "metadata": {},
      "outputs": [],
      "source": [
        "def guess(m):\n",
        "    maximum = -99999\n",
        "    index = 0\n",
        "    for i in range(len(m)):\n",
        "        if m[i] > maximum:\n",
        "            maximum = m[i]\n",
        "            index = i\n",
        "    return index"
      ]
    },
    {
      "cell_type": "code",
      "execution_count": 15,
      "metadata": {
        "id": "QIVyMWO111cV"
      },
      "outputs": [
        {
          "name": "stdout",
          "output_type": "stream",
          "text": [
            "Accuracy: 82.0 %\n",
            "Runtime: 4.2679603099823 seconds\n"
          ]
        },
        {
          "data": {
            "image/png": "[encoded data removed]",
            "text/plain": [
              "<Figure size 432x288 with 1 Axes>"
            ]
          },
          "metadata": {
            "needs_background": "light"
          },
          "output_type": "display_data"
        }
      ],
      "source": [
        "import pandas as pd\n",
        "import time\n",
        "\n",
        "w, b = initialize()\n",
        "costs = list()\n",
        "acc = list()\n",
        "\n",
        "def vectorized_backpropagation(w1, w2, w3, b1, b2, b3, epochs, batch_size, learning_rate, N):\n",
        "    start = time.time()\n",
        "    batches = [train_set[i : i + batch_size] for i in range(0, N, batch_size)]\n",
        "    \n",
        "    for epoch in range(epochs):\n",
        "        for id, batch in enumerate(batches):\n",
        "            grad_w1 = np.zeros((16 * 784))\n",
        "            grad_w2 = np.zeros((16 * 16))\n",
        "            grad_w3 = np.zeros((10, 16))\n",
        "            grad_b1 = np.zeros((16, 1))\n",
        "            grad_b2 = np.zeros((16, 1))\n",
        "            grad_b3 = np.zeros((10, 1))\n",
        "\n",
        "            for image, label in batch:\n",
        "                ''' Feedforward '''\n",
        "                net_h1 = w1 @ image + b1\n",
        "                out_h1 = sigmoid(net_h1)\n",
        "                net_h2 = w2 @ out_h1 + b2\n",
        "                out_h2 = sigmoid(net_h2)\n",
        "                net_h3 = w3 @ out_h2 + b3\n",
        "                out_h3 = sigmoid(net_h3)\n",
        "\n",
        "                ''' Backpropagation '''\n",
        "                ''' output layer : d_E_total / d_w3 = (d_E_total / d_out_h3) * (d_out_h3 / d_net_h3) * (d_net_h3 / d_w3) '''\n",
        "                \n",
        "                grad_w3 += (2 * d_sigmoid(net_h3) * (out_h3- label)) @ np.transpose(out_h2)\n",
        "                grad_b3 += (2 * d_sigmoid(net_h3) * (out_h3 - label))\n",
        "\n",
        "                ''' third layer : d_E_total / d_w2 = (d_E_total / d_out_h3) * (d_out_h3/ d_out_h2) * (d_out_h2 / d_net_h2) * (d_net_h2 / d_w2)'''\n",
        "                grad_out_h3 = np.zeros((16, 1))\n",
        "                grad_out_h3 += np.transpose(w3) @ (2 * d_sigmoid(net_h3) * (out_h3 - label)) \n",
        "                              \n",
        "                grad_w2 = grad_w2.reshape(16, 16)\n",
        "                grad_w2 += (d_sigmoid(net_h2) * grad_out_h3) @ np.transpose(out_h1)\n",
        "                        \n",
        "                grad_b2 += d_sigmoid(net_h2) * grad_out_h3\n",
        "                        \n",
        "                ''' second layer'''\n",
        "                grad_out_h2 = np.zeros((16, 1))\n",
        "                grad_out_h2 += np.transpose(w2) @ (d_sigmoid(net_h2) * grad_out_h3)\n",
        "\n",
        "                grad_w1 = grad_w1.reshape(16, 784)\n",
        "                grad_w1 += grad_out_h2 * d_sigmoid(net_h2) * np.transpose(image)\n",
        "                \n",
        "                grad_b1 += (d_sigmoid(net_h2) * grad_out_h2)\n",
        "                \n",
        "            ''' update the weights '''\n",
        "            w3 -= (learning_rate * (grad_w3 / batch_size))\n",
        "            w2 -= (learning_rate * (grad_w2 / batch_size))\n",
        "            w1 -= (learning_rate * (grad_w1 / batch_size))\n",
        "            # print(f\"w3 is equal to {w3}\\n w2 is: {w2}, \\nand w1 is: {w1}\")\n",
        "            \n",
        "            ''' update the biases '''\n",
        "            b3 -= (learning_rate * (grad_b3 / batch_size))\n",
        "            b2 -= (learning_rate * (grad_b2 / batch_size))\n",
        "            b1 -= (learning_rate * (grad_b1 / batch_size))\n",
        "            # print(f\"b3 : {b3},\\n b2:{b2},\\n b1:{b1}\")\n",
        "        \n",
        "        ''' Calculating cost '''\n",
        "        cost = 0\n",
        "        correct_guess = 0\n",
        "        for train_data in train_set[:N]:\n",
        "            x0 = train_data[0]\n",
        "            outh1 = sigmoid(w1 @ x0 + b1)\n",
        "            outh2 = sigmoid(w2 @ outh1 + b2)\n",
        "            outh3 = sigmoid(w3 @ outh2 + b3)\n",
        "    \n",
        "            if accuracy(outh3) == accuracy(train_data[1]):\n",
        "                correct_guess =  correct_guess + 1\n",
        "\n",
        "            # Compute cost\n",
        "            for i in range(0, 10):\n",
        "                cost = cost + ((outh3[i, 0] - train_data[1][i, 0]) ** 2)/2\n",
        "        costs.append(cost / N) \n",
        "\n",
        "    stop = time.time()\n",
        "    epoch_size = [i for i in range(0, epochs)]\n",
        "    # plt.plot(epoch_size, , \"r\")\n",
        "    plt.plot(epoch_size, costs, \"g\")\n",
        "    # plt.plot(epoch_size, acc, \"r\")\n",
        "    plt.title(\"train\", loc = 'left')\n",
        "    plt.xlabel(\"Epoch\")\n",
        "    plt.ylabel(\"Cost\")\n",
        "    print(f\"Accuracy: {str( (float) (correct_guess / N) * 100)} %\")\n",
        "    # print(f\"Accuracy: {str( (float) (counter / N) * 100)} %\")\n",
        "\n",
        "    print(f\"Runtime: {stop - start} seconds\")\n",
        "\n",
        "vectorized_backpropagation(w[0], w[1], w[2], b[0], b[1], b[2], epochs, batch_size, learning_rate, N)"
      ]
    },
    {
      "attachments": {},
      "cell_type": "markdown",
      "metadata": {
        "id": "ybTYDJFw3Zvu"
      },
      "source": [
        "### Test Model"
      ]
    },
    {
      "cell_type": "code",
      "execution_count": 53,
      "metadata": {},
      "outputs": [
        {
          "name": "stdout",
          "output_type": "stream",
          "text": [
            "10000\n"
          ]
        }
      ],
      "source": [
        "# hyperparameters \n",
        "epochs = 5\n",
        "learning_rate = 1\n",
        "batch_size = 50\n",
        "N = len(test_set)\n",
        "print(N)"
      ]
    },
    {
      "attachments": {},
      "cell_type": "markdown",
      "metadata": {},
      "source": [
        "### Vectorization\n"
      ]
    },
    {
      "cell_type": "code",
      "execution_count": 57,
      "metadata": {},
      "outputs": [
        {
          "name": "stdout",
          "output_type": "stream",
          "text": [
            "Accuracy of train: 10.13 %\n",
            "Accuracy of test: 12.27 %\n",
            "Runtime: 13.332035303115845 seconds\n"
          ]
        },
        {
          "data": {
            "image/png": "[encoded data removed]",
            "text/plain": [
              "<Figure size 432x288 with 1 Axes>"
            ]
          },
          "metadata": {
            "needs_background": "light"
          },
          "output_type": "display_data"
        }
      ],
      "source": [
        "import pandas as pd\n",
        "import time\n",
        "\n",
        "w, b = initialize()\n",
        "costs = list()\n",
        "\n",
        "def vectorized_backpropagation(w1, w2, w3, b1, b2, b3, epochs, batch_size, learning_rate, N):\n",
        "    start = time.time()\n",
        "    \n",
        "    for epoch in range(epochs):\n",
        "        # shuffled_train_set = np.asarray(np.random.shuffle(train_set_df.values)).r\n",
        "        batches = [train_set[i : i + batch_size] for i in range(0, N, batch_size)]\n",
        "        for id, batch in enumerate(batches):\n",
        "            grad_w1 = np.zeros((16 * 784))\n",
        "            grad_w2 = np.zeros((16 * 16))\n",
        "            grad_w3 = np.zeros((10, 16))\n",
        "            grad_b1 = np.zeros((16, 1))\n",
        "            grad_b2 = np.zeros((16, 1))\n",
        "            grad_b3 = np.zeros((10, 1))\n",
        "\n",
        "            for image, label in batch:\n",
        "                ''' Feedforward '''\n",
        "                net_h1 = w1 @ image + b1\n",
        "                out_h1 = sigmoid(net_h1)\n",
        "                net_h2 = w2 @ out_h1 + b2\n",
        "                out_h2 = sigmoid(net_h2)\n",
        "                net_h3 = w3 @ out_h2 + b3\n",
        "                out_h3 = sigmoid(net_h3)\n",
        "\n",
        "                ''' Backpropagation '''\n",
        "                ''' output layer : d_E_total / d_w3 = (d_E_total / d_out_h3) * (d_out_h3 / d_net_h3) * (d_net_h3 / d_w3) '''\n",
        "                \n",
        "                grad_w3 += (2 * d_sigmoid(net_h3) * (out_h3- label)) @ np.transpose(out_h2)\n",
        "                grad_b3 += (2 * d_sigmoid(net_h3) * (out_h3 - label))\n",
        "\n",
        "                ''' third layer : d_E_total / d_w2 = (d_E_total / d_out_h3) * (d_out_h3/ d_out_h2) * (d_out_h2 / d_net_h2) * (d_net_h2 / d_w2)'''\n",
        "                grad_out_h3 = np.zeros((16, 1))\n",
        "                grad_out_h3 += np.transpose(w3) @ (2 * d_sigmoid(net_h3) * (out_h3 - label)) \n",
        "                              \n",
        "                grad_w2 = grad_w2.reshape(16, 16)\n",
        "                grad_w2 += (d_sigmoid(net_h2) * grad_out_h3) @ np.transpose(out_h1)\n",
        "                        \n",
        "                grad_b2 += d_sigmoid(net_h2) * grad_out_h3\n",
        "                        \n",
        "                ''' second layer'''\n",
        "                grad_out_h2 = np.zeros((16, 1))\n",
        "                grad_out_h2 += np.transpose(w2) @ (d_sigmoid(net_h2) * grad_out_h3)\n",
        "\n",
        "                grad_w1 = grad_w1.reshape(16, 784)\n",
        "                grad_w1 += grad_out_h2 * d_sigmoid(net_h2) * np.transpose(image)\n",
        "                \n",
        "                grad_b1 += (d_sigmoid(net_h2) * grad_out_h2)\n",
        "                \n",
        "            ''' update the weights '''\n",
        "            w3 -= (learning_rate * (grad_w3 / batch_size))\n",
        "            w2 -= (learning_rate * (grad_w2 / batch_size))\n",
        "            w1 -= (learning_rate * (grad_w1 / batch_size))\n",
        "            # print(f\"w3 is equal to {w3}\\n w2 is: {w2}, \\nand w1 is: {w1}\")\n",
        "            \n",
        "            ''' update the biases '''\n",
        "            b3 -= (learning_rate * (grad_b3 / batch_size))\n",
        "            b2 -= (learning_rate * (grad_b2 / batch_size))\n",
        "            b1 -= (learning_rate * (grad_b1 / batch_size))\n",
        "            # print(f\"b3 : {b3},\\n b2:{b2},\\n b1:{b1}\")\n",
        "\n",
        "        ' Testing the model '\n",
        "        counter = 0 \n",
        "        for test_data in test_set[:N]:\n",
        "            x0 = test_data[0]\n",
        "            outh1 = sigmoid(w1 @ x0 + b1)\n",
        "            outh2 = sigmoid(w2 @ outh1 + b2)\n",
        "            outh3 = sigmoid(w3 @ outh2 + b3)\n",
        "        \n",
        "            if accuracy(outh3) == accuracy(test_data[1]):\n",
        "                counter =  counter + 1 \n",
        "\n",
        "        ''' Calculating cost '''\n",
        "        cost = 0\n",
        "        correct_guess = 0\n",
        "        for train_data in train_set[:N]:\n",
        "            x0 = train_data[0]\n",
        "            outh1 = sigmoid(w1 @ x0 + b1)\n",
        "            outh2 = sigmoid(w2 @ outh1 + b2)\n",
        "            outh3 = sigmoid(w3 @ outh2 + b3)\n",
        "    \n",
        "            if accuracy(outh3) == accuracy(train_data[1]):\n",
        "                correct_guess =  correct_guess + 1\n",
        "\n",
        "            # Compute cost\n",
        "            for j in range(0, 10):\n",
        "                cost = cost + ((outh3[j, 0] - train_data[1][j, 0]) ** 2) / 2\n",
        "        costs.append(cost / N)     \n",
        "\n",
        "    stop = time.time()\n",
        "    epoch_size = [i for i in range(0, epochs)]\n",
        "    # plt.plot(epoch_size, , \"r\")\n",
        "    plt.plot(epoch_size, costs, \"g\")\n",
        "    plt.title(\"train\", loc = 'left')\n",
        "    plt.xlabel(\"Epoch\")\n",
        "    plt.ylabel(\"Cost\")\n",
        "    print(f\"Accuracy of train: {str( (float) (correct_guess / N) * 100)} %\")\n",
        "    print(f\"Accuracy of test: {str(((float) (counter / N)) * 100)} %\")    \n",
        "\n",
        "    print(f\"Runtime: {stop - start} seconds\")\n",
        "\n",
        "vectorized_backpropagation(w[0], w[1], w[2], b[0], b[1], b[2], epochs, batch_size, learning_rate, N)"
      ]
    }
  ],
  "metadata": {
    "accelerator": "GPU",
    "colab": {
      "collapsed_sections": [],
      "provenance": []
    },
    "gpuClass": "standard",
    "kernelspec": {
      "display_name": "Python 3.9.4 64-bit",
      "language": "python",
      "name": "python3"
    },
    "language_info": {
      "codemirror_mode": {
        "name": "ipython",
        "version": 3
      },
      "file_extension": ".py",
      "mimetype": "text/x-python",
      "name": "python",
      "nbconvert_exporter": "python",
      "pygments_lexer": "ipython3",
      "version": "3.9.4"
    },
    "vscode": {
      "interpreter": {
        "hash": "cf92aa13fedf815d5c8dd192b8d835913fde3e8bc926b2a0ad6cc74ef2ba3ca2"
      }
    }
  },
  "nbformat": 4,
  "nbformat_minor": 0
}
